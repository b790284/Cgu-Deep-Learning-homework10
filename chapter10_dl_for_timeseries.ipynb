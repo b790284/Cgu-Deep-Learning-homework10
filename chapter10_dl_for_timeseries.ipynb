{
  "cells": [
    {
      "cell_type": "markdown",
      "metadata": {
        "id": "lgbZNZ-jllsA"
      },
      "source": [
        "This is a companion notebook for the book [Deep Learning with Python, Second Edition](https://www.manning.com/books/deep-learning-with-python-second-edition?a_aid=keras&a_bid=76564dff). For readability, it only contains runnable code blocks and section titles, and omits everything else in the book: text paragraphs, figures, and pseudocode.\n",
        "\n",
        "**If you want to be able to follow what's going on, I recommend reading the notebook side by side with your copy of the book.**\n",
        "\n",
        "This notebook was generated for TensorFlow 2.6."
      ]
    },
    {
      "cell_type": "markdown",
      "metadata": {
        "id": "MEhkWZzhllsC"
      },
      "source": [
        "# Deep learning for timeseries"
      ]
    },
    {
      "cell_type": "markdown",
      "metadata": {
        "id": "JwDAg065llsC"
      },
      "source": [
        "## Different kinds of timeseries tasks"
      ]
    },
    {
      "cell_type": "markdown",
      "metadata": {
        "id": "sKPixnIQllsC"
      },
      "source": [
        "## A temperature-forecasting example"
      ]
    },
    {
      "cell_type": "code",
      "execution_count": 25,
      "metadata": {
        "colab": {
          "base_uri": "https://localhost:8080/"
        },
        "id": "U4AXGXiQllsD",
        "outputId": "cdbd3ba2-437a-41a5-e7ef-0c6c5fe13d00"
      },
      "outputs": [
        {
          "output_type": "stream",
          "name": "stdout",
          "text": [
            "--2022-11-28 07:06:40--  https://s3.amazonaws.com/keras-datasets/jena_climate_2009_2016.csv.zip\n",
            "Resolving s3.amazonaws.com (s3.amazonaws.com)... 54.231.163.96, 52.216.51.200, 52.216.218.40, ...\n",
            "Connecting to s3.amazonaws.com (s3.amazonaws.com)|54.231.163.96|:443... connected.\n",
            "HTTP request sent, awaiting response... 200 OK\n",
            "Length: 13565642 (13M) [application/zip]\n",
            "Saving to: ‘jena_climate_2009_2016.csv.zip.1’\n",
            "\n",
            "jena_climate_2009_2 100%[===================>]  12.94M  5.23MB/s    in 2.5s    \n",
            "\n",
            "2022-11-28 07:06:43 (5.23 MB/s) - ‘jena_climate_2009_2016.csv.zip.1’ saved [13565642/13565642]\n",
            "\n",
            "Archive:  jena_climate_2009_2016.csv.zip\n",
            "replace jena_climate_2009_2016.csv? [y]es, [n]o, [A]ll, [N]one, [r]ename: y\n",
            "  inflating: jena_climate_2009_2016.csv  \n",
            "replace __MACOSX/._jena_climate_2009_2016.csv? [y]es, [n]o, [A]ll, [N]one, [r]ename: y\n",
            "  inflating: __MACOSX/._jena_climate_2009_2016.csv  \n"
          ]
        }
      ],
      "source": [
        "!wget https://s3.amazonaws.com/keras-datasets/jena_climate_2009_2016.csv.zip\n",
        "!unzip jena_climate_2009_2016.csv.zip"
      ]
    },
    {
      "cell_type": "markdown",
      "metadata": {
        "id": "Sj638nM4llsD"
      },
      "source": [
        "**Inspecting the data of the Jena weather dataset**"
      ]
    },
    {
      "cell_type": "code",
      "execution_count": 26,
      "metadata": {
        "colab": {
          "base_uri": "https://localhost:8080/"
        },
        "id": "3M_DxH3IllsE",
        "outputId": "d6ceeb19-4d27-4e1e-8212-ceedae90a6bd"
      },
      "outputs": [
        {
          "output_type": "stream",
          "name": "stdout",
          "text": [
            "['\"Date Time\"', '\"p (mbar)\"', '\"T (degC)\"', '\"Tpot (K)\"', '\"Tdew (degC)\"', '\"rh (%)\"', '\"VPmax (mbar)\"', '\"VPact (mbar)\"', '\"VPdef (mbar)\"', '\"sh (g/kg)\"', '\"H2OC (mmol/mol)\"', '\"rho (g/m**3)\"', '\"wv (m/s)\"', '\"max. wv (m/s)\"', '\"wd (deg)\"']\n",
            "420451\n"
          ]
        }
      ],
      "source": [
        "import os\n",
        "fname = os.path.join(\"jena_climate_2009_2016.csv\")\n",
        "\n",
        "with open(fname) as f:\n",
        "    data = f.read()\n",
        "\n",
        "lines = data.split(\"\\n\")\n",
        "header = lines[0].split(\",\")\n",
        "lines = lines[1:]\n",
        "print(header)\n",
        "print(len(lines))"
      ]
    },
    {
      "cell_type": "markdown",
      "metadata": {
        "id": "_vE50lw3llsE"
      },
      "source": [
        "**Parsing the data**"
      ]
    },
    {
      "cell_type": "code",
      "execution_count": 27,
      "metadata": {
        "id": "7JFNLBcCllsE"
      },
      "outputs": [],
      "source": [
        "import numpy as np\n",
        "temperature = np.zeros((len(lines),))\n",
        "raw_data = np.zeros((len(lines), len(header) - 1))\n",
        "for i, line in enumerate(lines):\n",
        "    values = [float(x) for x in line.split(\",\")[1:]]\n",
        "    temperature[i] = values[1]\n",
        "    raw_data[i, :] = values[:]"
      ]
    },
    {
      "cell_type": "markdown",
      "metadata": {
        "id": "aSNDeNcgllsE"
      },
      "source": [
        "**Plotting the temperature timeseries**"
      ]
    },
    {
      "cell_type": "code",
      "execution_count": 28,
      "metadata": {
        "colab": {
          "base_uri": "https://localhost:8080/",
          "height": 286
        },
        "id": "xv486_IMllsF",
        "outputId": "a97ab739-cc8c-4417-f653-6b4e0f663808"
      },
      "outputs": [
        {
          "output_type": "execute_result",
          "data": {
            "text/plain": [
              "[<matplotlib.lines.Line2D at 0x7f5832027cd0>]"
            ]
          },
          "metadata": {},
          "execution_count": 28
        },
        {
          "output_type": "display_data",
          "data": {
            "text/plain": [
              "<Figure size 432x288 with 1 Axes>"
            ],
            "image/png": "[encoded data removed]"
          },
          "metadata": {
            "needs_background": "light"
          }
        }
      ],
      "source": [
        "from matplotlib import pyplot as plt\n",
        "plt.plot(range(len(temperature)), temperature)"
      ]
    },
    {
      "cell_type": "markdown",
      "metadata": {
        "id": "pXBWKM6_llsF"
      },
      "source": [
        "**Plotting the first 10 days of the temperature timeseries**"
      ]
    },
    {
      "cell_type": "code",
      "execution_count": 29,
      "metadata": {
        "colab": {
          "base_uri": "https://localhost:8080/",
          "height": 283
        },
        "id": "-X7swIoOllsF",
        "outputId": "60b0142d-2817-47f7-fc0d-8307088f8b5e"
      },
      "outputs": [
        {
          "output_type": "execute_result",
          "data": {
            "text/plain": [
              "[<matplotlib.lines.Line2D at 0x7f5831f941d0>]"
            ]
          },
          "metadata": {},
          "execution_count": 29
        },
        {
          "output_type": "display_data",
          "data": {
            "text/plain": [
              "<Figure size 432x288 with 1 Axes>"
            ],
            "image/png": "[encoded data removed]"
          },
          "metadata": {
            "needs_background": "light"
          }
        }
      ],
      "source": [
        "plt.plot(range(1440), temperature[:1440])"
      ]
    },
    {
      "cell_type": "markdown",
      "metadata": {
        "id": "SjcaiZjsllsF"
      },
      "source": [
        "**Computing the number of samples we'll use for each data split**"
      ]
    },
    {
      "cell_type": "code",
      "execution_count": 30,
      "metadata": {
        "colab": {
          "base_uri": "https://localhost:8080/"
        },
        "id": "QXLur-VNllsF",
        "outputId": "8c354a10-a676-48f3-f3cc-25778fcdb161"
      },
      "outputs": [
        {
          "output_type": "stream",
          "name": "stdout",
          "text": [
            "num_train_samples: 210225\n",
            "num_val_samples: 105112\n",
            "num_test_samples: 105114\n"
          ]
        }
      ],
      "source": [
        "num_train_samples = int(0.5 * len(raw_data))\n",
        "num_val_samples = int(0.25 * len(raw_data))\n",
        "num_test_samples = len(raw_data) - num_train_samples - num_val_samples\n",
        "print(\"num_train_samples:\", num_train_samples)\n",
        "print(\"num_val_samples:\", num_val_samples)\n",
        "print(\"num_test_samples:\", num_test_samples)"
      ]
    },
    {
      "cell_type": "markdown",
      "metadata": {
        "id": "t4HDTB05llsF"
      },
      "source": [
        "### Preparing the data"
      ]
    },
    {
      "cell_type": "markdown",
      "metadata": {
        "id": "ShF87ALmllsG"
      },
      "source": [
        "**Normalizing the data**"
      ]
    },
    {
      "cell_type": "code",
      "execution_count": 31,
      "metadata": {
        "id": "MUPP53xZllsG"
      },
      "outputs": [],
      "source": [
        "mean = raw_data[:num_train_samples].mean(axis=0)\n",
        "raw_data -= mean\n",
        "std = raw_data[:num_train_samples].std(axis=0)\n",
        "raw_data /= std"
      ]
    },
    {
      "cell_type": "code",
      "execution_count": 32,
      "metadata": {
        "colab": {
          "base_uri": "https://localhost:8080/"
        },
        "id": "lUKHgdWdllsG",
        "outputId": "f2615b3e-16b3-41c9-9a71-ebbe1ff34dbe"
      },
      "outputs": [
        {
          "output_type": "stream",
          "name": "stdout",
          "text": [
            "[0, 1, 2] 3\n",
            "[1, 2, 3] 4\n",
            "[2, 3, 4] 5\n",
            "[3, 4, 5] 6\n",
            "[4, 5, 6] 7\n"
          ]
        }
      ],
      "source": [
        "import numpy as np\n",
        "from tensorflow import keras\n",
        "int_sequence = np.arange(10)\n",
        "dummy_dataset = keras.utils.timeseries_dataset_from_array(\n",
        "    data=int_sequence[:-3],\n",
        "    targets=int_sequence[3:],\n",
        "    sequence_length=3,\n",
        "    batch_size=2,\n",
        ")\n",
        "\n",
        "for inputs, targets in dummy_dataset:\n",
        "    for i in range(inputs.shape[0]):\n",
        "        print([int(x) for x in inputs[i]], int(targets[i]))"
      ]
    },
    {
      "cell_type": "markdown",
      "metadata": {
        "id": "NwPGOuYXllsG"
      },
      "source": [
        "**Instantiating datasets for training, validation, and testing**"
      ]
    },
    {
      "cell_type": "code",
      "execution_count": 33,
      "metadata": {
        "id": "BNchqQ_illsG"
      },
      "outputs": [],
      "source": [
        "sampling_rate = 6\n",
        "sequence_length = 120\n",
        "delay = sampling_rate * (sequence_length + 24 - 1)\n",
        "batch_size = 256\n",
        "\n",
        "train_dataset = keras.utils.timeseries_dataset_from_array(\n",
        "    raw_data[:-delay],\n",
        "    targets=temperature[delay:],\n",
        "    sampling_rate=sampling_rate,\n",
        "    sequence_length=sequence_length,\n",
        "    shuffle=True,\n",
        "    batch_size=batch_size,\n",
        "    start_index=0,\n",
        "    end_index=num_train_samples)\n",
        "\n",
        "val_dataset = keras.utils.timeseries_dataset_from_array(\n",
        "    raw_data[:-delay],\n",
        "    targets=temperature[delay:],\n",
        "    sampling_rate=sampling_rate,\n",
        "    sequence_length=sequence_length,\n",
        "    shuffle=True,\n",
        "    batch_size=batch_size,\n",
        "    start_index=num_train_samples,\n",
        "    end_index=num_train_samples + num_val_samples)\n",
        "\n",
        "test_dataset = keras.utils.timeseries_dataset_from_array(\n",
        "    raw_data[:-delay],\n",
        "    targets=temperature[delay:],\n",
        "    sampling_rate=sampling_rate,\n",
        "    sequence_length=sequence_length,\n",
        "    shuffle=True,\n",
        "    batch_size=batch_size,\n",
        "    start_index=num_train_samples + num_val_samples)"
      ]
    },
    {
      "cell_type": "markdown",
      "metadata": {
        "id": "DJWXOHUpllsH"
      },
      "source": [
        "**Inspecting the output of one of our datasets**"
      ]
    },
    {
      "cell_type": "code",
      "execution_count": 34,
      "metadata": {
        "colab": {
          "base_uri": "https://localhost:8080/"
        },
        "id": "BHzF0fgJllsH",
        "outputId": "4d9fd1d1-e5c6-453c-b772-b238c1180cd3"
      },
      "outputs": [
        {
          "output_type": "stream",
          "name": "stdout",
          "text": [
            "samples shape: (256, 120, 14)\n",
            "targets shape: (256,)\n"
          ]
        }
      ],
      "source": [
        "for samples, targets in train_dataset:\n",
        "    print(\"samples shape:\", samples.shape)\n",
        "    print(\"targets shape:\", targets.shape)\n",
        "    break"
      ]
    },
    {
      "cell_type": "markdown",
      "metadata": {
        "id": "8ty8_CoOllsH"
      },
      "source": [
        "### A common-sense, non-machine-learning baseline"
      ]
    },
    {
      "cell_type": "markdown",
      "metadata": {
        "id": "3SFcKbDollsH"
      },
      "source": [
        "**Computing the common-sense baseline MAE**"
      ]
    },
    {
      "cell_type": "code",
      "execution_count": 35,
      "metadata": {
        "colab": {
          "base_uri": "https://localhost:8080/"
        },
        "id": "C1gTHQ-KllsH",
        "outputId": "687d0b71-7031-48fa-e6cc-db20ac6aa188"
      },
      "outputs": [
        {
          "output_type": "stream",
          "name": "stdout",
          "text": [
            "Validation MAE: 2.44\n",
            "Test MAE: 2.62\n"
          ]
        }
      ],
      "source": [
        "def evaluate_naive_method(dataset):\n",
        "    total_abs_err = 0.\n",
        "    samples_seen = 0\n",
        "    for samples, targets in dataset:\n",
        "        preds = samples[:, -1, 1] * std[1] + mean[1]\n",
        "        total_abs_err += np.sum(np.abs(preds - targets))\n",
        "        samples_seen += samples.shape[0]\n",
        "    return total_abs_err / samples_seen\n",
        "\n",
        "print(f\"Validation MAE: {evaluate_naive_method(val_dataset):.2f}\")\n",
        "print(f\"Test MAE: {evaluate_naive_method(test_dataset):.2f}\")"
      ]
    },
    {
      "cell_type": "markdown",
      "metadata": {
        "id": "rzYOVPA7llsI"
      },
      "source": [
        "### Let's try a basic machine-learning model"
      ]
    },
    {
      "cell_type": "markdown",
      "metadata": {
        "id": "9Zioy4aUllsI"
      },
      "source": [
        "**Training and evaluating a densely connected model**"
      ]
    },
    {
      "cell_type": "code",
      "execution_count": 36,
      "metadata": {
        "colab": {
          "base_uri": "https://localhost:8080/"
        },
        "id": "2Nf6t9jmllsI",
        "outputId": "a56e3cb8-53fd-4ae8-e73c-2249204887fb"
      },
      "outputs": [
        {
          "output_type": "stream",
          "name": "stdout",
          "text": [
            "Epoch 1/10\n",
            "819/819 [==============================] - 41s 50ms/step - loss: 12.4551 - mae: 2.7388 - val_loss: 10.2287 - val_mae: 2.5110\n",
            "Epoch 2/10\n",
            "819/819 [==============================] - 41s 49ms/step - loss: 8.9994 - mae: 2.3616 - val_loss: 10.2608 - val_mae: 2.5191\n",
            "Epoch 3/10\n",
            "819/819 [==============================] - 41s 49ms/step - loss: 8.2757 - mae: 2.2649 - val_loss: 10.7212 - val_mae: 2.5768\n",
            "Epoch 4/10\n",
            "819/819 [==============================] - 40s 49ms/step - loss: 7.8033 - mae: 2.2026 - val_loss: 12.3622 - val_mae: 2.7769\n",
            "Epoch 5/10\n",
            "819/819 [==============================] - 41s 50ms/step - loss: 7.4795 - mae: 2.1587 - val_loss: 10.6099 - val_mae: 2.5642\n",
            "Epoch 6/10\n",
            "819/819 [==============================] - 39s 48ms/step - loss: 7.2548 - mae: 2.1268 - val_loss: 11.2325 - val_mae: 2.6482\n",
            "Epoch 7/10\n",
            "819/819 [==============================] - 40s 48ms/step - loss: 7.0631 - mae: 2.0998 - val_loss: 10.9848 - val_mae: 2.6042\n",
            "Epoch 8/10\n",
            "819/819 [==============================] - 41s 49ms/step - loss: 6.8951 - mae: 2.0732 - val_loss: 11.4056 - val_mae: 2.6724\n",
            "Epoch 9/10\n",
            "819/819 [==============================] - 41s 49ms/step - loss: 6.8054 - mae: 2.0603 - val_loss: 11.5063 - val_mae: 2.6642\n",
            "Epoch 10/10\n",
            "819/819 [==============================] - 41s 50ms/step - loss: 6.6873 - mae: 2.0423 - val_loss: 12.5757 - val_mae: 2.7877\n",
            "405/405 [==============================] - 15s 35ms/step - loss: 11.1002 - mae: 2.6290\n",
            "Test MAE: 2.63\n"
          ]
        }
      ],
      "source": [
        "from tensorflow import keras\n",
        "from tensorflow.keras import layers\n",
        "\n",
        "inputs = keras.Input(shape=(sequence_length, raw_data.shape[-1]))\n",
        "x = layers.Flatten()(inputs)\n",
        "x = layers.Dense(16, activation=\"relu\")(x)\n",
        "outputs = layers.Dense(1)(x)\n",
        "model = keras.Model(inputs, outputs)\n",
        "\n",
        "callbacks = [\n",
        "    keras.callbacks.ModelCheckpoint(\"jena_dense.keras\",\n",
        "                                    save_best_only=True)\n",
        "]\n",
        "model.compile(optimizer=\"rmsprop\", loss=\"mse\", metrics=[\"mae\"])\n",
        "history = model.fit(train_dataset,\n",
        "                    epochs=10,\n",
        "                    validation_data=val_dataset,\n",
        "                    callbacks=callbacks)\n",
        "\n",
        "model = keras.models.load_model(\"jena_dense.keras\")\n",
        "print(f\"Test MAE: {model.evaluate(test_dataset)[1]:.2f}\")"
      ]
    },
    {
      "cell_type": "markdown",
      "metadata": {
        "id": "wCBCapwIllsI"
      },
      "source": [
        "**Plotting results**"
      ]
    },
    {
      "cell_type": "code",
      "execution_count": 37,
      "metadata": {
        "colab": {
          "base_uri": "https://localhost:8080/",
          "height": 281
        },
        "id": "UjOWCJ0VllsI",
        "outputId": "f56602c4-2934-46aa-b358-b230abdbdf7a"
      },
      "outputs": [
        {
          "output_type": "display_data",
          "data": {
            "text/plain": [
              "<Figure size 432x288 with 1 Axes>"
            ],
            "image/png": "[encoded data removed]"
          },
          "metadata": {
            "needs_background": "light"
          }
        }
      ],
      "source": [
        "import matplotlib.pyplot as plt\n",
        "loss = history.history[\"mae\"]\n",
        "val_loss = history.history[\"val_mae\"]\n",
        "epochs = range(1, len(loss) + 1)\n",
        "plt.figure()\n",
        "plt.plot(epochs, loss, \"bo\", label=\"Training MAE\")\n",
        "plt.plot(epochs, val_loss, \"b\", label=\"Validation MAE\")\n",
        "plt.title(\"Training and validation MAE\")\n",
        "plt.legend()\n",
        "plt.show()"
      ]
    },
    {
      "cell_type": "markdown",
      "metadata": {
        "id": "QSmAvngmllsI"
      },
      "source": [
        "### Let's try a 1D convolutional model"
      ]
    },
    {
      "cell_type": "code",
      "execution_count": 38,
      "metadata": {
        "colab": {
          "base_uri": "https://localhost:8080/"
        },
        "id": "k9fIrRT1llsJ",
        "outputId": "8c0c9aad-3a94-492b-a59c-15990958a552"
      },
      "outputs": [
        {
          "output_type": "stream",
          "name": "stdout",
          "text": [
            "Epoch 1/10\n",
            "819/819 [==============================] - 40s 48ms/step - loss: 23.4333 - mae: 3.7842 - val_loss: 21.7954 - val_mae: 3.7413\n",
            "Epoch 2/10\n",
            "819/819 [==============================] - 40s 49ms/step - loss: 15.4396 - mae: 3.1266 - val_loss: 19.3496 - val_mae: 3.5145\n",
            "Epoch 3/10\n",
            "819/819 [==============================] - 40s 48ms/step - loss: 14.0162 - mae: 2.9711 - val_loss: 17.6113 - val_mae: 3.3251\n",
            "Epoch 4/10\n",
            "819/819 [==============================] - 40s 48ms/step - loss: 13.1567 - mae: 2.8723 - val_loss: 14.5328 - val_mae: 3.0121\n",
            "Epoch 5/10\n",
            "819/819 [==============================] - 41s 49ms/step - loss: 12.5845 - mae: 2.8050 - val_loss: 13.7839 - val_mae: 2.9190\n",
            "Epoch 6/10\n",
            "819/819 [==============================] - 39s 48ms/step - loss: 12.1594 - mae: 2.7550 - val_loss: 14.0511 - val_mae: 2.9439\n",
            "Epoch 7/10\n",
            "819/819 [==============================] - 40s 48ms/step - loss: 11.7699 - mae: 2.7099 - val_loss: 14.5558 - val_mae: 3.0072\n",
            "Epoch 8/10\n",
            "819/819 [==============================] - 40s 49ms/step - loss: 11.4825 - mae: 2.6749 - val_loss: 15.2684 - val_mae: 3.0708\n",
            "Epoch 9/10\n",
            "819/819 [==============================] - 39s 48ms/step - loss: 11.2048 - mae: 2.6413 - val_loss: 15.0581 - val_mae: 3.0419\n",
            "Epoch 10/10\n",
            "819/819 [==============================] - 40s 49ms/step - loss: 10.9301 - mae: 2.6092 - val_loss: 16.6051 - val_mae: 3.2253\n",
            "405/405 [==============================] - 13s 32ms/step - loss: 15.3029 - mae: 3.1019\n",
            "Test MAE: 3.10\n"
          ]
        }
      ],
      "source": [
        "inputs = keras.Input(shape=(sequence_length, raw_data.shape[-1]))\n",
        "x = layers.Conv1D(8, 24, activation=\"relu\")(inputs)\n",
        "x = layers.MaxPooling1D(2)(x)\n",
        "x = layers.Conv1D(8, 12, activation=\"relu\")(x)\n",
        "x = layers.MaxPooling1D(2)(x)\n",
        "x = layers.Conv1D(8, 6, activation=\"relu\")(x)\n",
        "x = layers.GlobalAveragePooling1D()(x)\n",
        "outputs = layers.Dense(1)(x)\n",
        "model = keras.Model(inputs, outputs)\n",
        "\n",
        "callbacks = [\n",
        "    keras.callbacks.ModelCheckpoint(\"jena_conv.keras\",\n",
        "                                    save_best_only=True)\n",
        "]\n",
        "model.compile(optimizer=\"rmsprop\", loss=\"mse\", metrics=[\"mae\"])\n",
        "history = model.fit(train_dataset,\n",
        "                    epochs=10,\n",
        "                    validation_data=val_dataset,\n",
        "                    callbacks=callbacks)\n",
        "\n",
        "model = keras.models.load_model(\"jena_conv.keras\")\n",
        "print(f\"Test MAE: {model.evaluate(test_dataset)[1]:.2f}\")"
      ]
    },
    {
      "cell_type": "markdown",
      "metadata": {
        "id": "El8wMVtellsJ"
      },
      "source": [
        "### A first recurrent baseline"
      ]
    },
    {
      "cell_type": "markdown",
      "metadata": {
        "id": "YQGAxk9IllsJ"
      },
      "source": [
        "**A simple LSTM-based model**"
      ]
    },
    {
      "cell_type": "code",
      "execution_count": 39,
      "metadata": {
        "colab": {
          "base_uri": "https://localhost:8080/"
        },
        "id": "8YiMd1AollsJ",
        "outputId": "fdd17f52-0243-4d53-9f74-a65a1ef97ee4"
      },
      "outputs": [
        {
          "output_type": "stream",
          "name": "stdout",
          "text": [
            "Epoch 1/10\n",
            "819/819 [==============================] - 45s 53ms/step - loss: 39.4330 - mae: 4.5658 - val_loss: 12.2452 - val_mae: 2.6759\n",
            "Epoch 2/10\n",
            "819/819 [==============================] - 43s 52ms/step - loss: 10.8411 - mae: 2.5525 - val_loss: 9.6615 - val_mae: 2.4128\n",
            "Epoch 3/10\n",
            "819/819 [==============================] - 43s 52ms/step - loss: 9.7266 - mae: 2.4180 - val_loss: 9.7312 - val_mae: 2.4137\n",
            "Epoch 4/10\n",
            "819/819 [==============================] - 42s 52ms/step - loss: 9.3384 - mae: 2.3695 - val_loss: 9.4787 - val_mae: 2.3986\n",
            "Epoch 5/10\n",
            "819/819 [==============================] - 44s 53ms/step - loss: 8.9709 - mae: 2.3271 - val_loss: 9.7980 - val_mae: 2.4457\n",
            "Epoch 6/10\n",
            "819/819 [==============================] - 43s 52ms/step - loss: 8.6969 - mae: 2.2954 - val_loss: 9.7173 - val_mae: 2.4455\n",
            "Epoch 7/10\n",
            "819/819 [==============================] - 43s 53ms/step - loss: 8.4739 - mae: 2.2659 - val_loss: 9.6446 - val_mae: 2.4218\n",
            "Epoch 8/10\n",
            "819/819 [==============================] - 43s 53ms/step - loss: 8.2474 - mae: 2.2354 - val_loss: 9.9723 - val_mae: 2.4732\n",
            "Epoch 9/10\n",
            "819/819 [==============================] - 43s 52ms/step - loss: 8.0087 - mae: 2.2016 - val_loss: 9.9954 - val_mae: 2.4789\n",
            "Epoch 10/10\n",
            "819/819 [==============================] - 44s 53ms/step - loss: 7.8290 - mae: 2.1764 - val_loss: 9.9394 - val_mae: 2.4756\n",
            "405/405 [==============================] - 14s 32ms/step - loss: 10.4737 - mae: 2.5265\n",
            "Test MAE: 2.53\n"
          ]
        }
      ],
      "source": [
        "inputs = keras.Input(shape=(sequence_length, raw_data.shape[-1]))\n",
        "x = layers.LSTM(16)(inputs)\n",
        "outputs = layers.Dense(1)(x)\n",
        "model = keras.Model(inputs, outputs)\n",
        "\n",
        "callbacks = [\n",
        "    keras.callbacks.ModelCheckpoint(\"jena_lstm.keras\",\n",
        "                                    save_best_only=True)\n",
        "]\n",
        "model.compile(optimizer=\"rmsprop\", loss=\"mse\", metrics=[\"mae\"])\n",
        "history = model.fit(train_dataset,\n",
        "                    epochs=10,\n",
        "                    validation_data=val_dataset,\n",
        "                    callbacks=callbacks)\n",
        "\n",
        "model = keras.models.load_model(\"jena_lstm.keras\")\n",
        "print(f\"Test MAE: {model.evaluate(test_dataset)[1]:.2f}\")"
      ]
    },
    {
      "cell_type": "markdown",
      "metadata": {
        "id": "rzABZPd0llsJ"
      },
      "source": [
        "## Understanding recurrent neural networks"
      ]
    },
    {
      "cell_type": "markdown",
      "metadata": {
        "id": "nrfpU2hsllsJ"
      },
      "source": [
        "**NumPy implementation of a simple RNN**"
      ]
    },
    {
      "cell_type": "code",
      "execution_count": 40,
      "metadata": {
        "id": "uI6CD7XTllsJ"
      },
      "outputs": [],
      "source": [
        "import numpy as np\n",
        "timesteps = 100\n",
        "input_features = 32\n",
        "output_features = 64\n",
        "inputs = np.random.random((timesteps, input_features))\n",
        "state_t = np.zeros((output_features,))\n",
        "W = np.random.random((output_features, input_features))\n",
        "U = np.random.random((output_features, output_features))\n",
        "b = np.random.random((output_features,))\n",
        "successive_outputs = []\n",
        "for input_t in inputs:\n",
        "    output_t = np.tanh(np.dot(W, input_t) + np.dot(U, state_t) + b)\n",
        "    successive_outputs.append(output_t)\n",
        "    state_t = output_t\n",
        "final_output_sequence = np.stack(successive_outputs, axis=0)"
      ]
    },
    {
      "cell_type": "markdown",
      "metadata": {
        "id": "2fgR3f6ZllsK"
      },
      "source": [
        "### A recurrent layer in Keras"
      ]
    },
    {
      "cell_type": "markdown",
      "metadata": {
        "id": "FenlE-e8llsK"
      },
      "source": [
        "**An RNN layer that can process sequences of any length**"
      ]
    },
    {
      "cell_type": "code",
      "execution_count": 41,
      "metadata": {
        "id": "nr36feL9llsK"
      },
      "outputs": [],
      "source": [
        "num_features = 14\n",
        "inputs = keras.Input(shape=(None, num_features))\n",
        "outputs = layers.SimpleRNN(16)(inputs)"
      ]
    },
    {
      "cell_type": "markdown",
      "metadata": {
        "id": "4rlVNY4zllsK"
      },
      "source": [
        "**An RNN layer that returns only its last output step**"
      ]
    },
    {
      "cell_type": "code",
      "execution_count": 42,
      "metadata": {
        "colab": {
          "base_uri": "https://localhost:8080/"
        },
        "id": "aA5A7lTkllsK",
        "outputId": "e1d11c94-40aa-4bc2-c88d-446fc9226962"
      },
      "outputs": [
        {
          "output_type": "stream",
          "name": "stdout",
          "text": [
            "(None, 16)\n"
          ]
        }
      ],
      "source": [
        "num_features = 14\n",
        "steps = 120\n",
        "inputs = keras.Input(shape=(steps, num_features))\n",
        "outputs = layers.SimpleRNN(16, return_sequences=False)(inputs)\n",
        "print(outputs.shape)"
      ]
    },
    {
      "cell_type": "markdown",
      "metadata": {
        "id": "ewU3IcONllsK"
      },
      "source": [
        "**An RNN layer that returns its full output sequence**"
      ]
    },
    {
      "cell_type": "code",
      "execution_count": 43,
      "metadata": {
        "colab": {
          "base_uri": "https://localhost:8080/"
        },
        "id": "2g7HHSslllsK",
        "outputId": "dd90a147-6af2-46a8-f7ca-2df5fd11f62e"
      },
      "outputs": [
        {
          "output_type": "stream",
          "name": "stdout",
          "text": [
            "(None, 120, 16)\n"
          ]
        }
      ],
      "source": [
        "num_features = 14\n",
        "steps = 120\n",
        "inputs = keras.Input(shape=(steps, num_features))\n",
        "outputs = layers.SimpleRNN(16, return_sequences=True)(inputs)\n",
        "print(outputs.shape)"
      ]
    },
    {
      "cell_type": "markdown",
      "metadata": {
        "id": "srVldKqollsK"
      },
      "source": [
        "**Stacking RNN layers**"
      ]
    },
    {
      "cell_type": "code",
      "execution_count": 44,
      "metadata": {
        "id": "vEiZVbXtllsL"
      },
      "outputs": [],
      "source": [
        "inputs = keras.Input(shape=(steps, num_features))\n",
        "x = layers.SimpleRNN(16, return_sequences=True)(inputs)\n",
        "x = layers.SimpleRNN(16, return_sequences=True)(x)\n",
        "outputs = layers.SimpleRNN(16)(x)"
      ]
    },
    {
      "cell_type": "markdown",
      "metadata": {
        "id": "3345QrbSllsL"
      },
      "source": [
        "## Advanced use of recurrent neural networks"
      ]
    },
    {
      "cell_type": "markdown",
      "metadata": {
        "id": "aJTYrDvBllsL"
      },
      "source": [
        "### Using recurrent dropout to fight overfitting"
      ]
    },
    {
      "cell_type": "markdown",
      "metadata": {
        "id": "IujZPTGsllsL"
      },
      "source": [
        "**Training and evaluating a dropout-regularized LSTM**"
      ]
    },
    {
      "cell_type": "code",
      "execution_count": 45,
      "metadata": {
        "colab": {
          "base_uri": "https://localhost:8080/"
        },
        "id": "FjMfpQwNllsL",
        "outputId": "32fc2d8f-3f90-489b-c50b-d808c19299c0"
      },
      "outputs": [
        {
          "output_type": "stream",
          "name": "stderr",
          "text": [
            "WARNING:tensorflow:Layer lstm_5 will not use cuDNN kernels since it doesn't meet the criteria. It will use a generic GPU kernel as fallback when running on GPU.\n"
          ]
        },
        {
          "output_type": "stream",
          "name": "stdout",
          "text": [
            "Epoch 1/10\n",
            "819/819 [==============================] - 390s 409ms/step - loss: 27.6945 - mae: 3.8883 - val_loss: 9.8631 - val_mae: 2.4307\n",
            "Epoch 2/10\n",
            "819/819 [==============================] - 335s 409ms/step - loss: 14.7568 - mae: 2.9806 - val_loss: 9.6811 - val_mae: 2.4177\n",
            "Epoch 3/10\n",
            "819/819 [==============================] - 334s 408ms/step - loss: 13.9465 - mae: 2.8945 - val_loss: 9.6085 - val_mae: 2.4093\n",
            "Epoch 4/10\n",
            "819/819 [==============================] - 334s 407ms/step - loss: 13.3528 - mae: 2.8273 - val_loss: 9.8603 - val_mae: 2.4418\n",
            "Epoch 5/10\n",
            "819/819 [==============================] - 335s 409ms/step - loss: 12.8318 - mae: 2.7723 - val_loss: 10.4816 - val_mae: 2.4923\n",
            "Epoch 6/10\n",
            "819/819 [==============================] - 333s 406ms/step - loss: 12.3458 - mae: 2.7200 - val_loss: 9.5360 - val_mae: 2.4069\n",
            "Epoch 7/10\n",
            "819/819 [==============================] - 332s 405ms/step - loss: 12.0238 - mae: 2.6852 - val_loss: 9.9049 - val_mae: 2.4543\n",
            "Epoch 8/10\n",
            "819/819 [==============================] - 332s 405ms/step - loss: 11.7416 - mae: 2.6533 - val_loss: 9.5421 - val_mae: 2.4017\n",
            "Epoch 9/10\n",
            "819/819 [==============================] - 332s 406ms/step - loss: 11.5519 - mae: 2.6288 - val_loss: 9.4961 - val_mae: 2.3944\n",
            "Epoch 10/10\n",
            "819/819 [==============================] - 332s 406ms/step - loss: 11.3703 - mae: 2.6091 - val_loss: 9.9082 - val_mae: 2.4445\n"
          ]
        }
      ],
      "source": [
        "inputs = keras.Input(shape=(sequence_length, raw_data.shape[-1]))\n",
        "x = layers.LSTM(32, recurrent_dropout=0.25)(inputs)\n",
        "x = layers.Dropout(0.5)(x)\n",
        "outputs = layers.Dense(1)(x)\n",
        "model = keras.Model(inputs, outputs)\n",
        "\n",
        "callbacks = [\n",
        "    keras.callbacks.ModelCheckpoint(\"jena_lstm_dropout.keras\",\n",
        "                                    save_best_only=True)\n",
        "]\n",
        "model.compile(optimizer=\"rmsprop\", loss=\"mse\", metrics=[\"mae\"])\n",
        "history = model.fit(train_dataset,\n",
        "                    epochs=10,\n",
        "                    validation_data=val_dataset,\n",
        "                    callbacks=callbacks)"
      ]
    },
    {
      "cell_type": "code",
      "execution_count": 46,
      "metadata": {
        "colab": {
          "base_uri": "https://localhost:8080/"
        },
        "id": "8KzYJy2kllsL",
        "outputId": "e392126d-27cb-4a7d-c343-563977d147c4"
      },
      "outputs": [
        {
          "output_type": "stream",
          "name": "stderr",
          "text": [
            "WARNING:tensorflow:Layer lstm_6 will not use cuDNN kernels since it doesn't meet the criteria. It will use a generic GPU kernel as fallback when running on GPU.\n"
          ]
        }
      ],
      "source": [
        "inputs = keras.Input(shape=(sequence_length, num_features))\n",
        "x = layers.LSTM(32, recurrent_dropout=0.2, unroll=True)(inputs)"
      ]
    },
    {
      "cell_type": "markdown",
      "metadata": {
        "id": "aiw1BtzIllsL"
      },
      "source": [
        "### Stacking recurrent layers"
      ]
    },
    {
      "cell_type": "markdown",
      "metadata": {
        "id": "XY5yOeBTllsL"
      },
      "source": [
        "**Training and evaluating a dropout-regularized, stacked GRU model**"
      ]
    },
    {
      "cell_type": "code",
      "execution_count": 47,
      "metadata": {
        "colab": {
          "base_uri": "https://localhost:8080/"
        },
        "id": "GAIGVcgpllsM",
        "outputId": "16bd04fe-b53e-4fc4-c125-ed0df401b677"
      },
      "outputs": [
        {
          "output_type": "stream",
          "name": "stderr",
          "text": [
            "WARNING:tensorflow:Layer gru_2 will not use cuDNN kernels since it doesn't meet the criteria. It will use a generic GPU kernel as fallback when running on GPU.\n",
            "WARNING:tensorflow:Layer gru_3 will not use cuDNN kernels since it doesn't meet the criteria. It will use a generic GPU kernel as fallback when running on GPU.\n"
          ]
        },
        {
          "output_type": "stream",
          "name": "stdout",
          "text": [
            "Epoch 1/10\n",
            "819/819 [==============================] - 602s 730ms/step - loss: 24.1631 - mae: 3.6386 - val_loss: 9.6316 - val_mae: 2.4093\n",
            "Epoch 2/10\n",
            "819/819 [==============================] - 596s 728ms/step - loss: 14.1095 - mae: 2.9108 - val_loss: 9.5008 - val_mae: 2.4001\n",
            "Epoch 3/10\n",
            "819/819 [==============================] - 598s 730ms/step - loss: 13.2642 - mae: 2.8246 - val_loss: 8.8568 - val_mae: 2.3057\n",
            "Epoch 4/10\n",
            "819/819 [==============================] - 602s 735ms/step - loss: 12.5597 - mae: 2.7500 - val_loss: 8.9927 - val_mae: 2.3190\n",
            "Epoch 5/10\n",
            "819/819 [==============================] - 603s 737ms/step - loss: 12.1364 - mae: 2.7021 - val_loss: 8.8406 - val_mae: 2.3019\n",
            "Epoch 6/10\n",
            "819/819 [==============================] - 608s 742ms/step - loss: 11.6034 - mae: 2.6489 - val_loss: 9.3950 - val_mae: 2.3762\n",
            "Epoch 7/10\n",
            "819/819 [==============================] - 607s 741ms/step - loss: 11.2719 - mae: 2.6077 - val_loss: 8.9243 - val_mae: 2.3128\n",
            "Epoch 8/10\n",
            "819/819 [==============================] - 601s 734ms/step - loss: 10.8294 - mae: 2.5624 - val_loss: 9.1798 - val_mae: 2.3407\n",
            "Epoch 9/10\n",
            "819/819 [==============================] - 642s 783ms/step - loss: 10.5215 - mae: 2.5225 - val_loss: 9.4208 - val_mae: 2.3672\n",
            "Epoch 10/10\n",
            "819/819 [==============================] - 610s 744ms/step - loss: 10.2195 - mae: 2.4876 - val_loss: 9.7690 - val_mae: 2.4170\n"
          ]
        },
        {
          "output_type": "stream",
          "name": "stderr",
          "text": [
            "WARNING:tensorflow:Layer gru_2 will not use cuDNN kernels since it doesn't meet the criteria. It will use a generic GPU kernel as fallback when running on GPU.\n",
            "WARNING:tensorflow:Layer gru_3 will not use cuDNN kernels since it doesn't meet the criteria. It will use a generic GPU kernel as fallback when running on GPU.\n"
          ]
        },
        {
          "output_type": "stream",
          "name": "stdout",
          "text": [
            "405/405 [==============================] - 36s 86ms/step - loss: 9.6046 - mae: 2.4262\n",
            "Test MAE: 2.43\n"
          ]
        }
      ],
      "source": [
        "inputs = keras.Input(shape=(sequence_length, raw_data.shape[-1]))\n",
        "x = layers.GRU(32, recurrent_dropout=0.5, return_sequences=True)(inputs)\n",
        "x = layers.GRU(32, recurrent_dropout=0.5)(x)\n",
        "x = layers.Dropout(0.5)(x)\n",
        "outputs = layers.Dense(1)(x)\n",
        "model = keras.Model(inputs, outputs)\n",
        "\n",
        "callbacks = [\n",
        "    keras.callbacks.ModelCheckpoint(\"jena_stacked_gru_dropout.keras\",\n",
        "                                    save_best_only=True)\n",
        "]\n",
        "model.compile(optimizer=\"rmsprop\", loss=\"mse\", metrics=[\"mae\"])\n",
        "history = model.fit(train_dataset,\n",
        "                    epochs=10,\n",
        "                    validation_data=val_dataset,\n",
        "                    callbacks=callbacks)\n",
        "model = keras.models.load_model(\"jena_stacked_gru_dropout.keras\")\n",
        "print(f\"Test MAE: {model.evaluate(test_dataset)[1]:.2f}\")"
      ]
    },
    {
      "cell_type": "markdown",
      "metadata": {
        "id": "3R18gGmxllsM"
      },
      "source": [
        "### Using bidirectional RNNs"
      ]
    },
    {
      "cell_type": "markdown",
      "metadata": {
        "id": "Ac7ARkfTllsM"
      },
      "source": [
        "**Training and evaluating a bidirectional LSTM**"
      ]
    },
    {
      "cell_type": "code",
      "execution_count": 48,
      "metadata": {
        "colab": {
          "base_uri": "https://localhost:8080/"
        },
        "id": "ceKFaQDNllsM",
        "outputId": "9a89cbec-affa-45d7-8ec4-1c5437c1df50"
      },
      "outputs": [
        {
          "output_type": "stream",
          "name": "stdout",
          "text": [
            "Epoch 1/10\n",
            "819/819 [==============================] - 49s 56ms/step - loss: 28.2174 - mae: 3.8424 - val_loss: 11.3560 - val_mae: 2.6193\n",
            "Epoch 2/10\n",
            "819/819 [==============================] - 45s 55ms/step - loss: 9.5915 - mae: 2.4156 - val_loss: 9.9798 - val_mae: 2.4464\n",
            "Epoch 3/10\n",
            "819/819 [==============================] - 46s 56ms/step - loss: 8.6852 - mae: 2.2946 - val_loss: 9.8871 - val_mae: 2.4425\n",
            "Epoch 4/10\n",
            "819/819 [==============================] - 46s 55ms/step - loss: 8.1964 - mae: 2.2244 - val_loss: 10.3061 - val_mae: 2.5017\n",
            "Epoch 5/10\n",
            "819/819 [==============================] - 46s 56ms/step - loss: 7.8362 - mae: 2.1724 - val_loss: 10.2175 - val_mae: 2.4789\n",
            "Epoch 6/10\n",
            "819/819 [==============================] - 45s 55ms/step - loss: 7.5286 - mae: 2.1253 - val_loss: 10.7949 - val_mae: 2.5484\n",
            "Epoch 7/10\n",
            "819/819 [==============================] - 47s 57ms/step - loss: 7.3223 - mae: 2.0947 - val_loss: 11.6491 - val_mae: 2.6346\n",
            "Epoch 8/10\n",
            "819/819 [==============================] - 51s 61ms/step - loss: 7.1261 - mae: 2.0675 - val_loss: 10.7036 - val_mae: 2.5362\n",
            "Epoch 9/10\n",
            "819/819 [==============================] - 47s 57ms/step - loss: 6.9923 - mae: 2.0479 - val_loss: 10.6990 - val_mae: 2.5461\n",
            "Epoch 10/10\n",
            "819/819 [==============================] - 46s 56ms/step - loss: 6.8228 - mae: 2.0236 - val_loss: 11.1014 - val_mae: 2.5890\n"
          ]
        }
      ],
      "source": [
        "inputs = keras.Input(shape=(sequence_length, raw_data.shape[-1]))\n",
        "x = layers.Bidirectional(layers.LSTM(16))(inputs)\n",
        "outputs = layers.Dense(1)(x)\n",
        "model = keras.Model(inputs, outputs)\n",
        "\n",
        "model.compile(optimizer=\"rmsprop\", loss=\"mse\", metrics=[\"mae\"])\n",
        "history = model.fit(train_dataset,\n",
        "                    epochs=10,\n",
        "                    validation_data=val_dataset)"
      ]
    },
    {
      "cell_type": "markdown",
      "metadata": {
        "id": "uiD2L0QOllsM"
      },
      "source": [
        "### Going even further"
      ]
    },
    {
      "cell_type": "markdown",
      "metadata": {
        "id": "0MEU1KR_llsM"
      },
      "source": [
        "## Summary"
      ]
    },
    {
      "cell_type": "markdown",
      "source": [
        "因為cudnn不支援，在跑訓練的時候跑很慢，所以把epochs條小。"
      ],
      "metadata": {
        "id": "bHOIYok_xBoC"
      }
    }
  ],
  "metadata": {
    "colab": {
      "provenance": [],
      "toc_visible": true
    },
    "kernelspec": {
      "display_name": "Python 3",
      "language": "python",
      "name": "python3"
    },
    "language_info": {
      "codemirror_mode": {
        "name": "ipython",
        "version": 3
      },
      "file_extension": ".py",
      "mimetype": "text/x-python",
      "name": "python",
      "nbconvert_exporter": "python",
      "pygments_lexer": "ipython3",
      "version": "3.7.0"
    },
    "accelerator": "GPU",
    "gpuClass": "standard"
  },
  "nbformat": 4,
  "nbformat_minor": 0
}